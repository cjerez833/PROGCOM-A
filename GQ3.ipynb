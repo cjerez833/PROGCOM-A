{
  "nbformat": 4,
  "nbformat_minor": 0,
  "metadata": {
    "colab": {
      "provenance": [],
      "authorship_tag": "ABX9TyNKUzJId6RRE2UlEFdrewUC",
      "include_colab_link": true
    },
    "kernelspec": {
      "name": "python3",
      "display_name": "Python 3"
    },
    "language_info": {
      "name": "python"
    }
  },
  "cells": [
    {
      "cell_type": "markdown",
      "metadata": {
        "id": "view-in-github",
        "colab_type": "text"
      },
      "source": [
        "<a href=\"https://colab.research.google.com/github/cjerez833/PROGCOM-A/blob/main/trabajo_gq3.ipynb\" target=\"_parent\"><img src=\"https://colab.research.google.com/assets/colab-badge.svg\" alt=\"Open In Colab\"/></a>"
      ]
    },
    {
      "cell_type": "code",
      "source": [
        "# Programa: Calcular Valor Futuro con Interés Compuesto\n",
        "\n",
        "# Entrada de datos\n",
        "capital = float(input(\"Ingrese el capital inicial: \"))\n",
        "tasa = float(input(\"Ingrese la tasa de interes (ej: 0.05 para 5%): \"))\n",
        "periodos = int(input(\"Ingrese el numero de periodos: \"))\n",
        "\n",
        "# Cálculo del valor futuro\n",
        "valorfuturo = capital * (1 + tasa) ** periodos\n",
        "\n",
        "# Salida del resultado\n",
        "print(\"El valor futuro de la inversion es:\", round(valorfuturo, 2))\n"
      ],
      "metadata": {
        "id": "odFRq5BEIjlK"
      },
      "execution_count": null,
      "outputs": []
    }
  ]
}
