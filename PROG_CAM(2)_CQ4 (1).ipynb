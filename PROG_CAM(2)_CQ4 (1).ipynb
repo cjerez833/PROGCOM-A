{
  "nbformat": 4,
  "nbformat_minor": 0,
  "metadata": {
    "colab": {
      "provenance": [],
      "authorship_tag": "ABX9TyPDp7OY1xN+dGVWL1YGm9cL",
      "include_colab_link": true
    },
    "kernelspec": {
      "name": "python3",
      "display_name": "Python 3"
    },
    "language_info": {
      "name": "python"
    }
  },
  "cells": [
    {
      "cell_type": "markdown",
      "metadata": {
        "id": "view-in-github",
        "colab_type": "text"
      },
      "source": [
        "<a href=\"https://colab.research.google.com/github/aduran162/PROGCOM-A/blob/main/PROG_CAM(2)_CQ4.ipynb\" target=\"_parent\"><img src=\"https://colab.research.google.com/assets/colab-badge.svg\" alt=\"Open In Colab\"/></a>"
      ]
    },
    {
      "cell_type": "code",
      "execution_count": null,
      "metadata": {
        "id": "FlEOz470c_MJ"
      },
      "outputs": [],
      "source": [
        "# Clase Jugador\n",
        "class Jugador:\n",
        "    def __init__(self, nombre, salud=100, poder=10):\n",
        "        self.nombre = nombre\n",
        "        self.salud = salud\n",
        "        self.poder = poder\n",
        "\n",
        "    def atacar(self, enemigo):\n",
        "        print(f\"{self.nombre} ataca a {enemigo.nombre} con {self.poder} de poder.\")\n",
        "        enemigo.salud -= self.poder\n",
        "\n",
        "    def esta_vivo(self):\n",
        "        return self.salud > 0\n",
        "\n",
        "    def __str__(self):\n",
        "        return f\"{self.nombre} (Salud: {self.salud}, Poder: {self.poder})\"\n",
        "\n",
        "# Clase Enemigo\n",
        "class Enemigo:\n",
        "    def __init__(self, nombre, salud=50, poder=5):\n",
        "        self.nombre = nombre\n",
        "        self.salud = salud\n",
        "        self.poder = poder\n",
        "\n",
        "    def atacar(self, jugador):\n",
        "        print(f\"{self.nombre} contraataca a {jugador.nombre} causando {self.poder} de daño.\")\n",
        "        jugador.salud -= self.poder\n",
        "\n",
        "    def esta_vivo(self):\n",
        "        return self.salud > 0\n",
        "\n",
        "    def __str__(self):\n",
        "        return f\"{self.nombre} (Salud: {self.salud}, Poder: {self.poder})\"\n",
        "\n",
        "# Clase Juego\n",
        "class Juego:\n",
        "    def __init__(self, jugador, enemigo):\n",
        "        self.jugador = jugador\n",
        "        self.enemigo = enemigo\n",
        "\n",
        "    def iniciar(self):\n",
        "        print(\"🎮 ¡El juego comienza!\")\n",
        "        while self.jugador.esta_vivo() and self.enemigo.esta_vivo():\n",
        "            self.jugador.atacar(self.enemigo)\n",
        "            if self.enemigo.esta_vivo():\n",
        "                self.enemigo.atacar(self.jugador)\n",
        "\n",
        "            print(self.jugador)\n",
        "            print(self.enemigo)\n",
        "            print(\"-\" * 30)\n",
        "\n",
        "        if self.jugador.esta_vivo():\n",
        "            print(f\"🏆 {self.jugador.nombre} ha ganado la batalla!\")\n",
        "        else:\n",
        "            print(f\"💀 {self.enemigo.nombre} ha derrotado a {self.jugador.nombre}...\")\n",
        "\n",
        "# EJEMPLO DE EJECUCIÓN\n",
        "\n",
        "jugador = Jugador(\"Héroe\", salud=100, poder=15)\n",
        "enemigo = Enemigo(\"Goblin\", salud=60, poder=8)\n",
        "\n",
        "juego = Juego(jugador, enemigo)\n",
        "juego.iniciar()"
      ]
    }
  ]
}