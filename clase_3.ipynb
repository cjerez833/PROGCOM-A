{
  "nbformat": 4,
  "nbformat_minor": 0,
  "metadata": {
    "colab": {
      "provenance": [],
      "authorship_tag": "ABX9TyOM4uQdlyR1+jXigLfrBxnR",
      "include_colab_link": true
    },
    "kernelspec": {
      "name": "python3",
      "display_name": "Python 3"
    },
    "language_info": {
      "name": "python"
    }
  },
  "cells": [
    {
      "cell_type": "markdown",
      "metadata": {
        "id": "view-in-github",
        "colab_type": "text"
      },
      "source": [
        "<a href=\"https://colab.research.google.com/github/cjerez833/PROGCOM-A/blob/main/clase_3.ipynb\" target=\"_parent\"><img src=\"https://colab.research.google.com/assets/colab-badge.svg\" alt=\"Open In Colab\"/></a>"
      ]
    },
    {
      "cell_type": "markdown",
      "source": [
        "#Estructuras de repeticion\n",
        "\n",
        "permitir repitir una o mas acaciones de acuerdo con una condicion (mientras se cumpla la condicion)"
      ],
      "metadata": {
        "id": "8sYoBB6jTTvF"
      }
    },
    {
      "cell_type": "markdown",
      "source": [
        "#Estructuras para - for\n",
        "\n",
        "\n",
        "1.   cuando se sabe cuantas veces se repite una accion.\n",
        "2.   esta conformado por una condicion inicial (CI) una condicion final (CF)\n",
        "y pasos (frecuencia de repeticion).\n",
        "3.   Esta estructura no se adentra, hasta alcanzar CF-1\n",
        "\n",
        "Estructura general de for\n",
        "\n",
        "```\n",
        "for (variable) in range(CI,CF+1,PASO):\n",
        "se repite (CI+1-CF)/ paso veces una accion\n",
        "```\n",
        "Estructura resumida de for\n",
        "\n",
        "```\n",
        "for (variable) in range (cantidad):\n",
        "se repite cantidad de veces una accion\n",
        "```\n",
        "Estructura or como iteracion\n",
        "1. El para (for) itera tantas veces, como elementos tenga la lista\n",
        "2. La variable toma el valor de cada elemento de la lista por iteracion\n",
        "\n",
        "```\n",
        "Lista=[1,2,3,4,5]\n",
        "for (variable) in lista:\n",
        "se repite len(lista)\n",
        "```\n",
        "\n",
        "\n",
        "\n",
        "\n",
        "\n",
        "\n"
      ],
      "metadata": {
        "id": "pm65suCwQpgw"
      }
    },
    {
      "cell_type": "code",
      "source": [
        "1 #Hacer la tabla de multiplicar de un numero n\n",
        "2 n=int(input(\"Digita un numero: \"))"
      ],
      "metadata": {
        "id": "-K7WYaSRTXxO"
      },
      "execution_count": null,
      "outputs": []
    },
    {
      "cell_type": "code",
      "source": [
        "1 print(f\"Tabla del {n}\")\n",
        "2 for holitas in range(1,11,1):\n",
        "3 print(f\"{n} x {holitas} = {n*holitas}\")"
      ],
      "metadata": {
        "id": "ZLA6_-JJTra0"
      },
      "execution_count": null,
      "outputs": []
    },
    {
      "cell_type": "markdown",
      "source": [],
      "metadata": {
        "id": "YfWiCOZOQuon"
      }
    },
    {
      "cell_type": "code",
      "source": [
        "# Tablas de multiplicar del 1 al 10\n",
        "for n in range(1, 11):\n",
        "    print(f\"\\nTabla del {n}\")\n",
        "    for holitas in range(1, 11):\n",
        "        print(f\"{n} x {holitas} = {n * holitas}\")"
      ],
      "metadata": {
        "colab": {
          "base_uri": "https://localhost:8080/"
        },
        "id": "08ihVPpoVN-D",
        "outputId": "15eb1dbc-8d01-4a71-9b31-e506f5b728cd"
      },
      "execution_count": null,
      "outputs": [
        {
          "output_type": "stream",
          "name": "stdout",
          "text": [
            "\n",
            "Tabla del 1\n",
            "1 x 1 = 1\n",
            "1 x 2 = 2\n",
            "1 x 3 = 3\n",
            "1 x 4 = 4\n",
            "1 x 5 = 5\n",
            "1 x 6 = 6\n",
            "1 x 7 = 7\n",
            "1 x 8 = 8\n",
            "1 x 9 = 9\n",
            "1 x 10 = 10\n",
            "\n",
            "Tabla del 2\n",
            "2 x 1 = 2\n",
            "2 x 2 = 4\n",
            "2 x 3 = 6\n",
            "2 x 4 = 8\n",
            "2 x 5 = 10\n",
            "2 x 6 = 12\n",
            "2 x 7 = 14\n",
            "2 x 8 = 16\n",
            "2 x 9 = 18\n",
            "2 x 10 = 20\n",
            "\n",
            "Tabla del 3\n",
            "3 x 1 = 3\n",
            "3 x 2 = 6\n",
            "3 x 3 = 9\n",
            "3 x 4 = 12\n",
            "3 x 5 = 15\n",
            "3 x 6 = 18\n",
            "3 x 7 = 21\n",
            "3 x 8 = 24\n",
            "3 x 9 = 27\n",
            "3 x 10 = 30\n",
            "\n",
            "Tabla del 4\n",
            "4 x 1 = 4\n",
            "4 x 2 = 8\n",
            "4 x 3 = 12\n",
            "4 x 4 = 16\n",
            "4 x 5 = 20\n",
            "4 x 6 = 24\n",
            "4 x 7 = 28\n",
            "4 x 8 = 32\n",
            "4 x 9 = 36\n",
            "4 x 10 = 40\n",
            "\n",
            "Tabla del 5\n",
            "5 x 1 = 5\n",
            "5 x 2 = 10\n",
            "5 x 3 = 15\n",
            "5 x 4 = 20\n",
            "5 x 5 = 25\n",
            "5 x 6 = 30\n",
            "5 x 7 = 35\n",
            "5 x 8 = 40\n",
            "5 x 9 = 45\n",
            "5 x 10 = 50\n",
            "\n",
            "Tabla del 6\n",
            "6 x 1 = 6\n",
            "6 x 2 = 12\n",
            "6 x 3 = 18\n",
            "6 x 4 = 24\n",
            "6 x 5 = 30\n",
            "6 x 6 = 36\n",
            "6 x 7 = 42\n",
            "6 x 8 = 48\n",
            "6 x 9 = 54\n",
            "6 x 10 = 60\n",
            "\n",
            "Tabla del 7\n",
            "7 x 1 = 7\n",
            "7 x 2 = 14\n",
            "7 x 3 = 21\n",
            "7 x 4 = 28\n",
            "7 x 5 = 35\n",
            "7 x 6 = 42\n",
            "7 x 7 = 49\n",
            "7 x 8 = 56\n",
            "7 x 9 = 63\n",
            "7 x 10 = 70\n",
            "\n",
            "Tabla del 8\n",
            "8 x 1 = 8\n",
            "8 x 2 = 16\n",
            "8 x 3 = 24\n",
            "8 x 4 = 32\n",
            "8 x 5 = 40\n",
            "8 x 6 = 48\n",
            "8 x 7 = 56\n",
            "8 x 8 = 64\n",
            "8 x 9 = 72\n",
            "8 x 10 = 80\n",
            "\n",
            "Tabla del 9\n",
            "9 x 1 = 9\n",
            "9 x 2 = 18\n",
            "9 x 3 = 27\n",
            "9 x 4 = 36\n",
            "9 x 5 = 45\n",
            "9 x 6 = 54\n",
            "9 x 7 = 63\n",
            "9 x 8 = 72\n",
            "9 x 9 = 81\n",
            "9 x 10 = 90\n",
            "\n",
            "Tabla del 10\n",
            "10 x 1 = 10\n",
            "10 x 2 = 20\n",
            "10 x 3 = 30\n",
            "10 x 4 = 40\n",
            "10 x 5 = 50\n",
            "10 x 6 = 60\n",
            "10 x 7 = 70\n",
            "10 x 8 = 80\n",
            "10 x 9 = 90\n",
            "10 x 10 = 100\n"
          ]
        }
      ]
    },
    {
      "cell_type": "markdown",
      "source": [
        "##Listas\n",
        "1. Es un tipi de datos\n",
        "2. Todos los elementos de una lista, **deden** separar se por comas\n",
        "3. Forma canonica para declarar una lista\n",
        "\n",
        "```\n",
        "(varriable)=[]\n",
        "```\n",
        "Ejemplo:\n",
        "Flores=[\"amapola\",\"tulipan\",\"lengua de suegra\",\"dahlia\",\"rosa\"]"
      ],
      "metadata": {
        "id": "jeRxmatKy9oJ"
      }
    },
    {
      "cell_type": "code",
      "source": [
        "dahlia=3 #variable de tipo numerica, int\n",
        "rosa=\"cinco\"#variable de tipo alfanumerico, str\n",
        "flores=[\"amapola\",\"tulipan\",\"lengua de suegra\",dahlia,rosa]"
      ],
      "metadata": {
        "id": "ugQdmj-jznop"
      },
      "execution_count": null,
      "outputs": []
    },
    {
      "cell_type": "markdown",
      "source": [
        "4. Manual.\n",
        "\n",
        "```\n",
        "Lista2=[dato1,dato2,dato3,..datoN]\n",
        "```\n",
        "5. Siempre son finitas\n",
        "6. Son indexadas\n",
        "\n",
        "```\n",
        "Lista2=[dato1,dato2,dato3,..datoN]\n",
        "```\n",
        "\n",
        "dato esta en el index 0\n",
        "dato 2 esta ubicado en el index 1\n",
        "7. Estructuras **para**para la creacion de listas\n",
        "\n",
        "```\n",
        "#Ejemplo: Crear una lista de 5 elementos\n",
        "lista=[] #para que el programa sepa que\n",
        "es una lista\n",
        "for loquesea in range(5):\n",
        "lista=input(\"ingrese el numero de una flor\")\n",
        "```\n",
        "\n",
        "\n"
      ],
      "metadata": {
        "id": "6KyJVZIT0Rpx"
      }
    },
    {
      "cell_type": "code",
      "source": [
        "lista=[]\n",
        "for loquesea in range(5):\n",
        "  lista=input(\"ingrese el numero de una flor\")"
      ],
      "metadata": {
        "id": "CBaTe53F15OH"
      },
      "execution_count": null,
      "outputs": []
    },
    {
      "cell_type": "code",
      "source": [
        "lista=[]\n",
        "for loquesea in range(5):\n",
        "  lista.append(loquesea)"
      ],
      "metadata": {
        "id": "tzeqrYCW4myV"
      },
      "execution_count": null,
      "outputs": []
    },
    {
      "cell_type": "markdown",
      "source": [
        "Ejercicios"
      ],
      "metadata": {
        "id": "uIrqsODR8vcJ"
      }
    },
    {
      "cell_type": "markdown",
      "source": [
        "EJERCICIO 1"
      ],
      "metadata": {
        "id": "rFocwYYy9EJR"
      }
    },
    {
      "cell_type": "code",
      "source": [
        "for i in range(1,11):\n",
        "  print(i)"
      ],
      "metadata": {
        "colab": {
          "base_uri": "https://localhost:8080/"
        },
        "id": "AYfohB_D_FMn",
        "outputId": "e4b5caf0-f016-44cc-9c1a-84373f2de598"
      },
      "execution_count": 2,
      "outputs": [
        {
          "output_type": "stream",
          "name": "stdout",
          "text": [
            "1\n",
            "2\n",
            "3\n",
            "4\n",
            "5\n",
            "6\n",
            "7\n",
            "8\n",
            "9\n",
            "10\n"
          ]
        }
      ]
    },
    {
      "cell_type": "code",
      "source": [
        "numeros = list(range(1,11))\n",
        "print(numeros)"
      ],
      "metadata": {
        "id": "CYeA31Ae_YKv"
      },
      "execution_count": null,
      "outputs": []
    },
    {
      "cell_type": "markdown",
      "source": [
        "EJERCICO 2"
      ],
      "metadata": {
        "id": "Q7cFlfqD_TIP"
      }
    },
    {
      "cell_type": "code",
      "source": [
        "for i in range(1,101):\n",
        "  print(i)"
      ],
      "metadata": {
        "colab": {
          "base_uri": "https://localhost:8080/"
        },
        "id": "Hjy1YB0g_VW3",
        "outputId": "1404453f-d8d9-4277-eec7-3511e2417119"
      },
      "execution_count": 3,
      "outputs": [
        {
          "output_type": "stream",
          "name": "stdout",
          "text": [
            "1\n",
            "2\n",
            "3\n",
            "4\n",
            "5\n",
            "6\n",
            "7\n",
            "8\n",
            "9\n",
            "10\n",
            "11\n",
            "12\n",
            "13\n",
            "14\n",
            "15\n",
            "16\n",
            "17\n",
            "18\n",
            "19\n",
            "20\n",
            "21\n",
            "22\n",
            "23\n",
            "24\n",
            "25\n",
            "26\n",
            "27\n",
            "28\n",
            "29\n",
            "30\n",
            "31\n",
            "32\n",
            "33\n",
            "34\n",
            "35\n",
            "36\n",
            "37\n",
            "38\n",
            "39\n",
            "40\n",
            "41\n",
            "42\n",
            "43\n",
            "44\n",
            "45\n",
            "46\n",
            "47\n",
            "48\n",
            "49\n",
            "50\n",
            "51\n",
            "52\n",
            "53\n",
            "54\n",
            "55\n",
            "56\n",
            "57\n",
            "58\n",
            "59\n",
            "60\n",
            "61\n",
            "62\n",
            "63\n",
            "64\n",
            "65\n",
            "66\n",
            "67\n",
            "68\n",
            "69\n",
            "70\n",
            "71\n",
            "72\n",
            "73\n",
            "74\n",
            "75\n",
            "76\n",
            "77\n",
            "78\n",
            "79\n",
            "80\n",
            "81\n",
            "82\n",
            "83\n",
            "84\n",
            "85\n",
            "86\n",
            "87\n",
            "88\n",
            "89\n",
            "90\n",
            "91\n",
            "92\n",
            "93\n",
            "94\n",
            "95\n",
            "96\n",
            "97\n",
            "98\n",
            "99\n",
            "100\n"
          ]
        }
      ]
    },
    {
      "cell_type": "code",
      "source": [
        "suma=sum(list(range(1,101)))\n",
        "print(\"suma\",suma)"
      ],
      "metadata": {
        "id": "Sr_PymWO_tK_"
      },
      "execution_count": null,
      "outputs": []
    },
    {
      "cell_type": "markdown",
      "source": [
        "EJERCICO 3"
      ],
      "metadata": {
        "id": "QH-ojyVC_uhf"
      }
    },
    {
      "cell_type": "code",
      "source": [
        "for i in range(1,31):\n",
        "  if i % 3==0:\n",
        "    print(i)"
      ],
      "metadata": {
        "colab": {
          "base_uri": "https://localhost:8080/"
        },
        "id": "3W2ny4mq_wBX",
        "outputId": "07af5513-c93e-4b5e-883a-6156d17cf5c6"
      },
      "execution_count": 13,
      "outputs": [
        {
          "output_type": "stream",
          "name": "stdout",
          "text": [
            "3\n",
            "6\n",
            "9\n",
            "12\n",
            "15\n",
            "18\n",
            "21\n",
            "24\n",
            "27\n",
            "30\n"
          ]
        }
      ]
    },
    {
      "cell_type": "code",
      "source": [
        "multiplos = [i for i range(1,31) if i%3==0]\n",
        "print(multiplos)"
      ],
      "metadata": {
        "id": "KbEGLyq8AXr2"
      },
      "execution_count": null,
      "outputs": []
    },
    {
      "cell_type": "markdown",
      "source": [
        "EJERCICIO 4"
      ],
      "metadata": {
        "id": "yu4tre0CAX9G"
      }
    },
    {
      "cell_type": "code",
      "source": [
        "num=int(input(\"ingrese un numero:\"))\n",
        "for i in range(1,11):\n",
        "  print(f\"{num}x{i}={num*i}\")"
      ],
      "metadata": {
        "id": "NdKayzu7Ab0O"
      },
      "execution_count": null,
      "outputs": []
    },
    {
      "cell_type": "code",
      "source": [
        "n=int(input(\"ingrese un numero:\"))\n",
        "tabla=[f\"{n}x{i}={n*i}\" for i in range(1,11)]\n",
        "  print(\"\\n\".jhon(tabla))"
      ],
      "metadata": {
        "id": "a9Zl8kRsBCY2"
      },
      "execution_count": null,
      "outputs": []
    },
    {
      "cell_type": "markdown",
      "source": [
        "EJERCICIO 5"
      ],
      "metadata": {
        "id": "aa42Z7oiBDzO"
      }
    },
    {
      "cell_type": "code",
      "source": [
        "suma=0\n",
        "for i in range(5):\n",
        "  n= float(input(f\"ingrese el numero{i+1}:\"))\n",
        "  suma +=n\n",
        "promedio= suma/5\n",
        "print(f\"el promedio es:{promedio}\")"
      ],
      "metadata": {
        "id": "h6qI2h1cBHIG"
      },
      "execution_count": null,
      "outputs": []
    },
    {
      "cell_type": "code",
      "source": [
        "numeros=0\n",
        "for i in range(5):\n",
        "  numero=float(input(f\"ingrese el numero{i+1}:\"))\n",
        "  suma+= numero\n",
        "promedio=sum/5\n",
        "print(\"el promedio:\",promedio)"
      ],
      "metadata": {
        "id": "tUs18bReBzbP"
      },
      "execution_count": null,
      "outputs": []
    },
    {
      "cell_type": "markdown",
      "source": [
        "EJERCICIO 6"
      ],
      "metadata": {
        "id": "cwfkpJncBzxW"
      }
    },
    {
      "cell_type": "code",
      "source": [
        "n= int(input(\"ingrese un numero:\"))\n",
        "suma = 0\n",
        "for i in range(1,n+1):\n",
        "  suma +=i\n",
        "print(\"la suma es:\",suma)"
      ],
      "metadata": {
        "id": "G5nuGsOSB22F"
      },
      "execution_count": null,
      "outputs": []
    },
    {
      "cell_type": "code",
      "source": [
        "n= int(input(\"ingrese un numero\"))\n",
        "pares =[i for i in range(1,n+1)if i%2==0]\n",
        "print(\"cantidad de pares:\",len(pares))"
      ],
      "metadata": {
        "id": "LalbG0CtDF2E"
      },
      "execution_count": null,
      "outputs": []
    },
    {
      "cell_type": "markdown",
      "source": [
        "EJERCICIO 7"
      ],
      "metadata": {
        "id": "_6TYviOwDH0E"
      }
    },
    {
      "cell_type": "code",
      "source": [
        "n= int(input(\"ingrese un numero:\"))\n",
        "factorial = 1"
      ],
      "metadata": {
        "id": "dqO7ARDxDKmO"
      },
      "execution_count": null,
      "outputs": []
    }
  ]
}