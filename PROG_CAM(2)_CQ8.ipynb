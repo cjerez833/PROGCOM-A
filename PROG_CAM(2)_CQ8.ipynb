{
  "nbformat": 4,
  "nbformat_minor": 0,
  "metadata": {
    "colab": {
      "provenance": [],
      "authorship_tag": "ABX9TyNCJ/R64Ahk4BGsIpm3JEpX",
      "include_colab_link": true
    },
    "kernelspec": {
      "name": "python3",
      "display_name": "Python 3"
    },
    "language_info": {
      "name": "python"
    }
  },
  "cells": [
    {
      "cell_type": "markdown",
      "metadata": {
        "id": "view-in-github",
        "colab_type": "text"
      },
      "source": [
        "<a href=\"https://colab.research.google.com/github/aduran162/PROGCOM-A/blob/main/PROG_CAM(2)_CQ8.ipynb\" target=\"_parent\"><img src=\"https://colab.research.google.com/assets/colab-badge.svg\" alt=\"Open In Colab\"/></a>"
      ]
    },
    {
      "cell_type": "markdown",
      "source": [
        "#Repositorio de errores en Python\n",
        "\n",
        "Veremos 5 errores comunes en Python, cómo se producen y cómo corregirlos\n",
        "\n",
        "Errores:\n",
        "1. SyntaxError=Error de sintaxis  \n",
        "2. IndentationError=Error de indentación  \n",
        "3. NameError=Variable no definida  \n",
        "4. TypeError=Operación entre tipo incompatibles  \n",
        "5. KeyError=Clave inexistente en un diccionario  "
      ],
      "metadata": {
        "id": "Zf62YXfzh6FG"
      }
    },
    {
      "cell_type": "code",
      "source": [
        "#1\n",
        "#Ocurre cuando el código no sigue la sintaxis de Python (ej: olvidar dos puntos en un if).\n",
        "#Ejemplo con error\n",
        "# if True\n",
        "#     print(\"Hola\")\n",
        "\n",
        "#Corrección\n",
        "if True:\n",
        "    print(\"Hola\")"
      ],
      "metadata": {
        "id": "PyT92kmvhyOv"
      },
      "execution_count": null,
      "outputs": []
    },
    {
      "cell_type": "code",
      "source": [
        "#2\n",
        "#Ocurre cuando la indentación (espacios al inicio de la línea) no es correcta.\n",
        "#Ejemplo con error\n",
        "# def saludar():\n",
        "# print(\"Hola\")   # Falta sangría\n",
        "\n",
        "#Corrección\n",
        "def saludar():\n",
        "    print(\"Hola\")\n",
        "\n",
        "saludar()"
      ],
      "metadata": {
        "id": "Yd6L0ep3iR21"
      },
      "execution_count": null,
      "outputs": []
    },
    {
      "cell_type": "code",
      "source": [
        "#3\n",
        "#Ocurre cuando intentamos usar una variable o función que no está definida.\n",
        "#Ejemplo con error\n",
        "# print(nombre)\n",
        "\n",
        "#Corrección\n",
        "nombre = \"Ana\"\n",
        "print(nombre)"
      ],
      "metadata": {
        "id": "j6ArrrJtiaEY"
      },
      "execution_count": null,
      "outputs": []
    },
    {
      "cell_type": "code",
      "source": [
        "#4\n",
        "#Ocurre cuando intentamos operar con tipos de datos incompatibles.\n",
        "#Ejemplo con error\n",
        "# resultado = \"5\" + 3   # No se puede sumar texto y número\n",
        "\n",
        "#Corrección\n",
        "resultado = int(\"5\") + 3\n",
        "print(resultado)"
      ],
      "metadata": {
        "id": "VibkXXEiinZc"
      },
      "execution_count": null,
      "outputs": []
    },
    {
      "cell_type": "code",
      "source": [
        "#5\n",
        "#Ocurre cuando intentamos acceder a una clave que no existe en un diccionario.\n",
        "#Ejemplo con error\n",
        "# datos = {\"nombre\": \"Ana\", \"edad\": 20}\n",
        "# print(datos[\"ciudad\"])\n",
        "\n",
        "#Corrección\n",
        "datos = {\"nombre\": \"Ana\", \"edad\": 20}\n",
        "print(datos.get(\"ciudad\", \"La clave no existe\"))"
      ],
      "metadata": {
        "colab": {
          "base_uri": "https://localhost:8080/"
        },
        "id": "fEfhotQcit7b",
        "outputId": "2d42dc2d-1310-449e-cc0f-440782f05452"
      },
      "execution_count": 2,
      "outputs": [
        {
          "output_type": "stream",
          "name": "stdout",
          "text": [
            "La clave no existe\n"
          ]
        }
      ]
    }
  ]
}