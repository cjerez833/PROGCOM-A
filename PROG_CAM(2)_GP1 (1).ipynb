{
  "nbformat": 4,
  "nbformat_minor": 0,
  "metadata": {
    "colab": {
      "provenance": [],
      "authorship_tag": "ABX9TyP0b4D674vP3UDYWyVvckTf",
      "include_colab_link": true
    },
    "kernelspec": {
      "name": "python3",
      "display_name": "Python 3"
    },
    "language_info": {
      "name": "python"
    }
  },
  "cells": [
    {
      "cell_type": "markdown",
      "metadata": {
        "id": "view-in-github",
        "colab_type": "text"
      },
      "source": [
        "<a href=\"https://colab.research.google.com/github/aduran162/PROGCOM-A/blob/main/PROG_CAM(2)_GP1.ipynb\" target=\"_parent\"><img src=\"https://colab.research.google.com/assets/colab-badge.svg\" alt=\"Open In Colab\"/></a>"
      ]
    },
    {
      "cell_type": "code",
      "execution_count": 4,
      "metadata": {
        "colab": {
          "base_uri": "https://localhost:8080/"
        },
        "id": "GGNhkWAZ2qNX",
        "outputId": "ffeb952b-3569-4a76-e3a2-aa57d9bee8cf"
      },
      "outputs": [
        {
          "output_type": "stream",
          "name": "stdout",
          "text": [
            "Elige: piedra, papel o tijerapiedra\n",
            "Tú elegiste: piedra\n",
            "La compu eligió: papel\n",
            "El computador ganó\n"
          ]
        }
      ],
      "source": [
        "import random\n",
        "\n",
        "# opciones del juego\n",
        "opciones = [\"piedra\", \"papel\", \"tijera\"]\n",
        "\n",
        "# turno del jugador\n",
        "jugador = input(\"Elige: piedra, papel o tijera\").lower()\n",
        "\n",
        "# turno de la computadora\n",
        "computador = random.choice(opciones)\n",
        "\n",
        "print(\"Tú elegiste:\", jugador)\n",
        "print(\"La compu eligió:\", computador)\n",
        "\n",
        "# reglas\n",
        "if jugador == computador:\n",
        "    print(\"Empate\")\n",
        "elif (jugador == \"piedra\" and computador == \"tijera\") or \\\n",
        "     (jugador == \"papel\" and computador== \"piedra\") or \\\n",
        "     (jugador == \"tijera\" and computador == \"papel\"):\n",
        "    print(\"Ganaste\")\n",
        "else:\n",
        "    print(\"El computador ganó\")"
      ]
    }
  ]
}