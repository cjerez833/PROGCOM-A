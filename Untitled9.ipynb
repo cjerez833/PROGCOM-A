{
  "nbformat": 4,
  "nbformat_minor": 0,
  "metadata": {
    "colab": {
      "provenance": [],
      "authorship_tag": "ABX9TyN/9AGBaRsMFhcqqeRLouPc",
      "include_colab_link": true
    },
    "kernelspec": {
      "name": "python3",
      "display_name": "Python 3"
    },
    "language_info": {
      "name": "python"
    }
  },
  "cells": [
    {
      "cell_type": "markdown",
      "metadata": {
        "id": "view-in-github",
        "colab_type": "text"
      },
      "source": [
        "<a href=\"https://colab.research.google.com/github/cjerez833/PROGCOM-A/blob/main/Untitled9.ipynb\" target=\"_parent\"><img src=\"https://colab.research.google.com/assets/colab-badge.svg\" alt=\"Open In Colab\"/></a>"
      ]
    },
    {
      "cell_type": "code",
      "execution_count": null,
      "metadata": {
        "id": "JwfiUACRXG79"
      },
      "outputs": [],
      "source": [
        "def paso1():\n",
        "    print(\"Empezar quietos\")\n",
        "    print()\n",
        "\n",
        "def paso2():\n",
        "    print(\"Pie izquierdo hacia adelante\")\n",
        "    print(\"Pie derecho hacia atrás\")\n",
        "    print(\"Pie derecho hacia adelante\")\n",
        "    print()\n",
        "\n",
        "def paso3():\n",
        "    print(\"Pie izquierdo hacia arriba estilo patada\")\n",
        "    print(\"Ambos brazos alineados con la pierna a la izquierda\")\n",
        "    print()\n",
        "def paso4(a):\n",
        "    for i in range(a):\n",
        "        print(f\"Un salto pequeño hacia adelante\")\n",
        "    print()\n",
        "\n",
        "def paso5():\n",
        "    print(\"Brazo izquierdo estirado haciendo el número 5 con la mano\")\n",
        "    print(\"Brazo derecho recogido haciendo el número 5 con la mano\")\n",
        "    print(\"Subir pie izquierdo estilo patada, recogerlo, estirarlo\")\n",
        "    for i in range(4):\n",
        "        print(\"Recogerlo, estirarlo\")\n",
        "    print()\n",
        "\n",
        "def paso6():\n",
        "    print(\"Pie derecho hacia atrás a la izquierda\")\n",
        "    print(\"Mano izquierda hacia la derecha\")\n",
        "    print(\"Mano derecha hacia la derecha\")\n",
        "    print(\"Cabeza hacia la derecha\")\n",
        "    print()\n",
        "\n",
        "def paso7(a):\n",
        "    for i in range(a):\n",
        "        print(f\"Un salto pequeño hacia adelante\")\n",
        "    print()\n",
        "\n",
        "def paso8():\n",
        "    print(\"Manos en la cadera, abrir y cerrar piernas\")\n",
        "    for i in range(3):\n",
        "      print(\"Abrir y cerrar piernas\")\n",
        "    print()\n",
        "\n",
        "def paso9(a):\n",
        "    for i in range(a):\n",
        "        print(f\"Un salto pequeño hacia adelante\")\n",
        "    print()\n",
        "\n",
        "def paso10():\n",
        "  print(\"Pierna izquierda un poco levantada\")\n",
        "  print(\"Brazo derecho en diagonal hacia arriba\")\n",
        "  print(\"Cabeza mirando hacia la izquierda\")\n",
        "  print(\"Mano izquierda en la mitad de la cintura\")\n",
        "  print()\n",
        "\n",
        "def paso11():\n",
        "    print(\"Mano izquierda en la mitad de la cintura\")\n",
        "    print(\"Mano derecha en la cara\")\n",
        "    print(\"Menearse hacia adelante\")\n",
        "    print()\n",
        "\n",
        "def paso12():\n",
        "    print(\"Hacer como un gorila con los brazos hacia abajo y bajar un poco el cuerpo\")\n",
        "    print()\n",
        "\n",
        "def kung_fu_fighting():\n",
        "    paso1()\n",
        "    paso2()\n",
        "    paso3()\n",
        "    paso4(4)\n",
        "    paso5()\n",
        "    paso6()\n",
        "    paso7(4)\n",
        "    paso8()\n",
        "    paso9(4)\n",
        "    paso10()\n",
        "    paso11()\n",
        "    paso12()"
      ]
    }
  ]
}