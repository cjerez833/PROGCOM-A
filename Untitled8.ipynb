{
  "nbformat": 4,
  "nbformat_minor": 0,
  "metadata": {
    "colab": {
      "provenance": [],
      "authorship_tag": "ABX9TyOcKVLodrGhOknXYtk0skT+",
      "include_colab_link": true
    },
    "kernelspec": {
      "name": "python3",
      "display_name": "Python 3"
    },
    "language_info": {
      "name": "python"
    }
  },
  "cells": [
    {
      "cell_type": "markdown",
      "metadata": {
        "id": "view-in-github",
        "colab_type": "text"
      },
      "source": [
        "<a href=\"https://colab.research.google.com/github/cjerez833/PROGCOM-A/blob/main/Untitled8.ipynb\" target=\"_parent\"><img src=\"https://colab.research.google.com/assets/colab-badge.svg\" alt=\"Open In Colab\"/></a>"
      ]
    },
    {
      "cell_type": "markdown",
      "source": [
        "Ejercicio 1\n",
        "\n",
        "\n",
        "```\n",
        "num = float(input(\"Ingrese un número: \"))\n",
        "if num > 0:\n",
        "    print(\"Es positivo\")\n",
        "else:\n",
        "    print(\"No es positivo\")\n",
        "```\n",
        "\n"
      ],
      "metadata": {
        "id": "iCUUefnEXhkF"
      }
    },
    {
      "cell_type": "markdown",
      "source": [
        "Ejercicio 2\n",
        "\n",
        "```\n",
        "edad = int(input(\"Ingrese su edad: \"))\n",
        "if edad >= 18:\n",
        "    print(\"Es mayor de edad\")\n",
        "else:\n",
        "    print(\"Es menor de edad\")\n",
        "```\n",
        "\n"
      ],
      "metadata": {
        "id": "5NkRW2IlXrFE"
      }
    },
    {
      "cell_type": "markdown",
      "source": [
        "Ejercicio 3\n",
        "\n",
        "\n",
        "```\n",
        "a = float(input(\"Ingrese el primer número: \"))\n",
        "b = float(input(\"Ingrese el segundo número: \"))\n",
        "print(\"El mayor es:\", max(a, b))\n",
        "```\n",
        "\n"
      ],
      "metadata": {
        "id": "6sXfwe2dXxd8"
      }
    },
    {
      "cell_type": "markdown",
      "source": [
        "Ejercicio 4\n",
        "\n",
        "```\n",
        "nota = float(input(\"Ingrese la calificación (0-100): \"))\n",
        "if nota >= 60:\n",
        "    print(\"Aprobado\")\n",
        "else:\n",
        "    print(\"Reprobado\")\n",
        "\n",
        "```\n",
        "\n"
      ],
      "metadata": {
        "id": "YRojEKNzZi7p"
      }
    },
    {
      "cell_type": "markdown",
      "source": [
        "Ejercicio 5\n",
        "\n",
        "\n",
        "```\n",
        "num = int(input(\"Ingrese un número: \"))\n",
        "if num % 2 == 0:\n",
        "    print(\"Par\")\n",
        "else:\n",
        "    print(\"Impar\")\n",
        "```\n",
        "\n"
      ],
      "metadata": {
        "id": "ILQzcvoka0Bn"
      }
    },
    {
      "cell_type": "markdown",
      "source": [],
      "metadata": {
        "id": "f-7-O6HkbHNH"
      }
    }
  ]
}