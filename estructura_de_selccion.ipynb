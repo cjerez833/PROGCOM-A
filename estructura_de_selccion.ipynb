{
  "nbformat": 4,
  "nbformat_minor": 0,
  "metadata": {
    "colab": {
      "provenance": [],
      "authorship_tag": "ABX9TyNNyNFFANOY8N3AiSdidfB/",
      "include_colab_link": true
    },
    "kernelspec": {
      "name": "python3",
      "display_name": "Python 3"
    },
    "language_info": {
      "name": "python"
    }
  },
  "cells": [
    {
      "cell_type": "markdown",
      "metadata": {
        "id": "view-in-github",
        "colab_type": "text"
      },
      "source": [
        "<a href=\"https://colab.research.google.com/github/cjerez833/PROGCOM-A/blob/main/estructura_de_selccion.ipynb\" target=\"_parent\"><img src=\"https://colab.research.google.com/assets/colab-badge.svg\" alt=\"Open In Colab\"/></a>"
      ]
    },
    {
      "cell_type": "code",
      "execution_count": null,
      "metadata": {
        "id": "0OynZutVI7T8"
      },
      "outputs": [],
      "source": []
    },
    {
      "cell_type": "markdown",
      "source": [],
      "metadata": {
        "id": "tmXj9ySEfBVY"
      }
    },
    {
      "cell_type": "markdown",
      "source": [
        "# 1) Indicar si un número es positivo\n"
      ],
      "metadata": {
        "id": "fe49ZLJ6I8wV"
      }
    },
    {
      "cell_type": "code",
      "source": [
        "numero = float(input(\"Ingrese un número: \"))\n",
        "if numero > 0:\n",
        "    print(\"Positivo\")\n",
        "else:\n",
        "    print(\"Negativo o Cero\")"
      ],
      "metadata": {
        "id": "2bj1c6l_fIQF"
      },
      "execution_count": null,
      "outputs": []
    },
    {
      "cell_type": "code",
      "source": [
        "num = float(input(\"Ingrese un número: \"))\n",
        "if num > 0:\n",
        "    print(\"Es positivo\")\n",
        "elif num < 0:\n",
        "    print(\"Es negativo\")\n",
        "else:\n",
        "    print(\"Es cero\")"
      ],
      "metadata": {
        "id": "etQwWPB_c2Tc"
      },
      "execution_count": null,
      "outputs": []
    },
    {
      "cell_type": "code",
      "source": [
        "num = float(input(\"Ingrese un número: \"))\n",
        "print(\"Es positivo\" if num > 0 else \"No es positivo\")"
      ],
      "metadata": {
        "id": "dbNmchaae0mD"
      },
      "execution_count": null,
      "outputs": []
    },
    {
      "cell_type": "markdown",
      "source": [
        " # 2) Determinar si es mayor de edad\n",
        "\n"
      ],
      "metadata": {
        "id": "K7iiTa5xKdC7"
      }
    },
    {
      "cell_type": "code",
      "source": [
        " edad = int(input(\"Ingrese su edad: \"))\n",
        "    if edad >= 18:\n",
        "        print(\"Mayor de edad\")\n",
        "    else:\n",
        "        print(\"Menor de edad\")"
      ],
      "metadata": {
        "id": "sVN8_KA1fXJ8"
      },
      "execution_count": null,
      "outputs": []
    },
    {
      "cell_type": "code",
      "source": [
        "edad = int(input(\"Ingrese su edad: \"))\n",
        "if edad >= 18:\n",
        "    print(\"Es mayor de edad\")\n",
        "elif edad >= 0:\n",
        "    print(\"Es menor de edad\")\n",
        "else:\n",
        "    print(\"Edad inválida\")"
      ],
      "metadata": {
        "id": "onLrQwQccydd"
      },
      "execution_count": null,
      "outputs": []
    },
    {
      "cell_type": "code",
      "source": [
        "edad = int(input(\"Ingrese su edad: \"))\n",
        "print(\"Es mayor de edad\" if edad >= 18 else \"Es menor de edad\")"
      ],
      "metadata": {
        "id": "QS0QTDh_fcc0"
      },
      "execution_count": null,
      "outputs": []
    },
    {
      "cell_type": "markdown",
      "source": [
        " # 3) Imprimir el mayor de dos números\n",
        ""
      ],
      "metadata": {
        "id": "RSb480rwMSHf"
      }
    },
    {
      "cell_type": "code",
      "source": [
        "   a = float(input(\"Ingrese primer número: \"))\n",
        "    b = float(input(\"Ingrese segundo número: \"))\n",
        "    if a > b:\n",
        "        print(\"El mayor es:\", a)\n",
        "    else:\n",
        "        print(\"El mayor es:\", b)"
      ],
      "metadata": {
        "id": "dsMdhgtlfgkF"
      },
      "execution_count": null,
      "outputs": []
    },
    {
      "cell_type": "code",
      "source": [
        "a = float(input(\"Ingrese el primer número: \"))\n",
        "b = float(input(\"Ingrese el segundo número: \"))\n",
        "if a > b:\n",
        "    print(f\"El mayor es {a}\")\n",
        "elif b > a:\n",
        "    print(f\"El mayor es {b}\")\n",
        "else:\n",
        "    print(\"Son iguales\")"
      ],
      "metadata": {
        "id": "1J5mYs6ecuck"
      },
      "execution_count": null,
      "outputs": []
    },
    {
      "cell_type": "code",
      "source": [
        "a = float(input(\"Ingrese el primer número: \"))\n",
        "b = float(input(\"Ingrese el segundo número: \"))\n",
        "print(a if a > b else b)\n"
      ],
      "metadata": {
        "id": "uCoFjZ8efxnT"
      },
      "execution_count": null,
      "outputs": []
    },
    {
      "cell_type": "markdown",
      "source": [
        "# 4) Indicar si calificación es Aprobado o Reprobado\n",
        "\n"
      ],
      "metadata": {
        "id": "bMwcDs3jMfoT"
      }
    },
    {
      "cell_type": "code",
      "source": [
        "    nota = int(input(\"Ingrese calificación (0-100): \"))\n",
        "    if nota >= 60:\n",
        "        print(\"Aprobado\")\n",
        "    else:\n",
        "        print(\"Reprobado\")"
      ],
      "metadata": {
        "id": "KoiTHKDQf3Vd"
      },
      "execution_count": null,
      "outputs": []
    },
    {
      "cell_type": "code",
      "source": [
        "nota = float(input(\"Ingrese la calificación (0-100): \"))\n",
        "if nota >= 60:\n",
        "    print(\"Aprobado\")\n",
        "elif nota >= 0:\n",
        "    print(\"Reprobado\")\n",
        "else:\n",
        "    print(\"Calificación inválida\")"
      ],
      "metadata": {
        "id": "CUTRlngCcpPz"
      },
      "execution_count": null,
      "outputs": []
    },
    {
      "cell_type": "code",
      "source": [
        "nota = float(input(\"Ingrese la calificación (0-100): \"))\n",
        "print(\"Aprobado\" if nota >= 60 else \"Reprobado\")"
      ],
      "metadata": {
        "id": "_RAMQZGCf7Lk"
      },
      "execution_count": null,
      "outputs": []
    },
    {
      "cell_type": "markdown",
      "source": [
        "# 5) Determinar si un número es par o impar\n"
      ],
      "metadata": {
        "id": "S4Zit2jfMivc"
      }
    },
    {
      "cell_type": "code",
      "source": [
        "n = int(input(\"Ingrese un número entero: \"))\n",
        "    if n % 2 == 0:\n",
        "        print(\"Par\")\n",
        "    else:\n",
        "        print(\"Impar\")"
      ],
      "metadata": {
        "id": "q4oSOt90gAmL"
      },
      "execution_count": null,
      "outputs": []
    },
    {
      "cell_type": "code",
      "source": [
        "num = int(input(\"Ingrese un número: \"))\n",
        "if num == 0:\n",
        "    print(\"Es cero\")\n",
        "elif num % 2 == 0:\n",
        "    print(\"Es par\")\n",
        "else:\n",
        "    print(\"Es impar\")"
      ],
      "metadata": {
        "id": "WMlyEfnMcdVk"
      },
      "execution_count": null,
      "outputs": []
    },
    {
      "cell_type": "code",
      "source": [
        "num = int(input(\"Ingrese un número: \"))\n",
        "print(\"Par\" if num % 2 == 0 else \"Impar\")"
      ],
      "metadata": {
        "id": "P61SnzahgD60"
      },
      "execution_count": null,
      "outputs": []
    },
    {
      "cell_type": "markdown",
      "source": [
        "  # 6) Imprimir el mayor de tres números\n"
      ],
      "metadata": {
        "id": "OzARFaSOMmFr"
      }
    },
    {
      "cell_type": "code",
      "source": [
        "a = float(input(\"Número A: \"))\n",
        "    b = float(input(\"Número B: \"))\n",
        "    c = float(input(\"Número C: \"))\n",
        "    mayor = a\n",
        "    if b > mayor:\n",
        "        mayor = b\n",
        "    else:\n",
        "        mayor = mayor\n",
        "    if c > mayor:\n",
        "        mayor = c\n",
        "    else:\n",
        "        mayor = mayor\n",
        "    print(\"El mayor es:\", mayor)"
      ],
      "metadata": {
        "id": "2ygcvG6ygIb-"
      },
      "execution_count": null,
      "outputs": []
    },
    {
      "cell_type": "code",
      "source": [
        "a = float(input(\"Ingrese el primer número: \"))\n",
        "b = float(input(\"Ingrese el segundo número: \"))\n",
        "c = float(input(\"Ingrese el tercer número: \"))\n",
        "if a >= b and a >= c:\n",
        "    print(f\"El mayor es {a}\")\n",
        "elif b >= a and b >= c:\n",
        "    print(f\"El mayor es {b}\")\n",
        "else:\n",
        "    print(f\"El mayor es {c}\")\n"
      ],
      "metadata": {
        "id": "H9QPkq1Ic5yn"
      },
      "execution_count": null,
      "outputs": []
    },
    {
      "cell_type": "code",
      "source": [
        "a = float(input(\"Ingrese el primer número: \"))\n",
        "b = float(input(\"Ingrese el segundo número: \"))\n",
        "c = float(input(\"Ingrese el tercer número: \"))\n",
        "mayor = a if a > b and a > c else (b if b > c else c)\n",
        "print(f\"El mayor es {mayor}\")"
      ],
      "metadata": {
        "id": "DvWiivdZgNAb"
      },
      "execution_count": null,
      "outputs": []
    },
    {
      "cell_type": "markdown",
      "source": [
        " # 7) Indicar si un año es bisiesto\n",
        ""
      ],
      "metadata": {
        "id": "O-vVNwkCMpq9"
      }
    },
    {
      "cell_type": "code",
      "source": [
        "    año = int(input(\"Ingrese un año: \"))\n",
        "    if (año % 4 == 0 and año % 100 != 0) or (año % 400 == 0):\n",
        "        print(\"Bisiesto\")\n",
        "    else:\n",
        "        print(\"No bisiesto\")"
      ],
      "metadata": {
        "id": "EI4rxy_CgSzF"
      },
      "execution_count": null,
      "outputs": []
    },
    {
      "cell_type": "code",
      "source": [
        "año = int(input(\"Ingrese un año: \"))\n",
        "if año <= 0:\n",
        "    print(\"Año inválido\")\n",
        "elif (año % 4 == 0 and año % 100 != 0) or (año % 400 == 0):\n",
        "    print(\"Es bisiesto\")\n",
        "else:\n",
        "    print(\"No es bisiesto\")"
      ],
      "metadata": {
        "id": "1sYitDi8dGtb"
      },
      "execution_count": null,
      "outputs": []
    },
    {
      "cell_type": "code",
      "source": [
        "año = int(input(\"Ingrese un año: \"))\n",
        "print(\"Bisiesto\" if (año % 4 == 0 and año % 100 != 0) or (año % 400 == 0) else \"No bisiesto\")\n"
      ],
      "metadata": {
        "id": "aUhkM0fGgbdk"
      },
      "execution_count": null,
      "outputs": []
    },
    {
      "cell_type": "markdown",
      "source": [
        "# 8) Validar contraseña\n",
        ""
      ],
      "metadata": {
        "id": "R3mJTbIkMsQj"
      }
    },
    {
      "cell_type": "code",
      "source": [
        "   pwd = input(\"Ingrese una contraseña: \")\n",
        "    if len(pwd) > 8 and any(ch.isupper() for ch in pwd) and any(ch.isdigit() for ch in pwd):\n",
        "        print(\"Válida\")\n",
        "    else:\n",
        "        print(\"Inválida\")"
      ],
      "metadata": {
        "id": "BQIr2ej1glWd"
      },
      "execution_count": null,
      "outputs": []
    },
    {
      "cell_type": "code",
      "source": [
        "clave = input(\"Ingrese una contraseña: \")\n",
        "if len(clave) <= 8:\n",
        "    print(\"Contraseña inválida: muy corta\")\n",
        "elif not any(c.isupper() for c in clave):\n",
        "    print(\"Contraseña inválida: falta mayúscula\")\n",
        "elif not any(c.isdigit() for c in clave):\n",
        "    print(\"Contraseña inválida: falta número\")\n",
        "else:\n",
        "    print(\"Contraseña válida\")"
      ],
      "metadata": {
        "id": "veD7rJt-dT4k"
      },
      "execution_count": null,
      "outputs": []
    },
    {
      "cell_type": "code",
      "source": [
        "clave = input(\"Ingrese una contraseña: \")\n",
        "print(\"Válida\" if len(clave) > 8 and any(c.isupper() for c in clave) and any(c.isdigit() for c in clave) else \"Inválida\")"
      ],
      "metadata": {
        "id": "04a9e9VDgpFL"
      },
      "execution_count": null,
      "outputs": []
    },
    {
      "cell_type": "markdown",
      "source": [
        " # 9) FizzBuzz\n",
        ""
      ],
      "metadata": {
        "id": "falOJOoBMvM1"
      }
    },
    {
      "cell_type": "code",
      "source": [
        "   n = int(input(\"Ingrese un número para FizzBuzz: \"))\n",
        "    if n % 3 == 0 and n % 5 == 0:\n",
        "        print(\"FizzBuzz\")\n",
        "    else:\n",
        "        if n % 3 == 0:\n",
        "            print(\"Fizz\")\n",
        "        else:\n",
        "            if n % 5 == 0:\n",
        "                print(\"Buzz\")\n",
        "            else:\n",
        "                print(n)"
      ],
      "metadata": {
        "id": "VWJ1HXCSgvrr"
      },
      "execution_count": null,
      "outputs": []
    },
    {
      "cell_type": "code",
      "source": [
        "num = int(input(\"Ingrese un número: \"))\n",
        "if num % 3 == 0 and num % 5 == 0:\n",
        "    print(\"FizzBuzz\")\n",
        "elif num % 3 == 0:\n",
        "    print(\"Fizz\")\n",
        "elif num % 5 == 0:\n",
        "    print(\"Buzz\")\n",
        "else:\n",
        "    print(num)"
      ],
      "metadata": {
        "id": "l01DjKR7dW6b"
      },
      "execution_count": null,
      "outputs": []
    },
    {
      "cell_type": "code",
      "source": [
        "num = int(input(\"Ingrese un número: \"))\n",
        "print(\"FizzBuzz\" if num % 3 == 0 and num % 5 == 0 else \"Fizz\" if num % 3 == 0 else \"Buzz\" if num % 5 == 0 else num)"
      ],
      "metadata": {
        "id": "H_yEXhq_gy2M"
      },
      "execution_count": null,
      "outputs": []
    },
    {
      "cell_type": "markdown",
      "source": [
        "# 10) Simular cajero automático\n"
      ],
      "metadata": {
        "id": "HcnnDb6BM21D"
      }
    },
    {
      "cell_type": "code",
      "source": [
        "    saldo = float(input(\"Saldo disponible: \"))\n",
        "    retiro = float(input(\"Monto a retirar: \"))\n",
        "    if retiro <= saldo:\n",
        "        print(\"Operación aprobada\")\n",
        "    else:\n",
        "        print(\"Fondos insuficientes\""
      ],
      "metadata": {
        "id": "0QY-w12jg8ij"
      },
      "execution_count": null,
      "outputs": []
    },
    {
      "cell_type": "code",
      "source": [
        "saldo = float(input(\"Ingrese el saldo disponible: \"))\n",
        "retiro = float(input(\"Ingrese el monto a retirar: \"))\n",
        "if retiro <= 0:\n",
        "    print(\"Monto inválido\")\n",
        "elif retiro <= saldo:\n",
        "    print(\"Operación exitosa\")\n",
        "else:\n",
        "    print(\"Fondos insuficientes\")"
      ],
      "metadata": {
        "id": "lEFFaj-cdaP7"
      },
      "execution_count": null,
      "outputs": []
    },
    {
      "cell_type": "code",
      "source": [
        "saldo = float(input(\"Ingrese el saldo disponible: \"))\n",
        "retiro = float(input(\"Ingrese el monto a retirar: \"))\n",
        "print(\"Operación exitosa\" if retiro <= saldo else \"Fondos insuficientes\")"
      ],
      "metadata": {
        "id": "-BPA-d4mhDiz"
      },
      "execution_count": null,
      "outputs": []
    }
  ]
}